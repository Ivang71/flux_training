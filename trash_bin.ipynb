{
 "cells": [
  {
   "cell_type": "code",
   "execution_count": null,
   "id": "01f8b498-5267-4879-959d-3e985006a789",
   "metadata": {},
   "outputs": [],
   "source": [
    "# very powerful, but discarded because requires at least 40gb cards to run and may be harder to tweak than diffusers\n",
    "!git clone https://github.com/xdit-project/xDiT.git\n",
    "%cd xDiT\n",
    "%pip install flask\n",
    "%pip install -e \".[diffusers,flash-attn]\"\n",
    "!python3 ./http-service/launch_host.py --config ./http-service/config.json\n",
    "%cd /workspace/dtback"
   ]
  },
  {
   "cell_type": "code",
   "execution_count": null,
   "id": "290d259c-2e16-4484-8d56-1816baeed3cd",
   "metadata": {},
   "outputs": [],
   "source": [
    "# ComfyUI setup\n",
    "%cd  /workspace/dtback\n",
    "!git clone https://github.com/comfyanonymous/ComfyUI.git\n",
    "%cd /workspace/dtback/ComfyUI\n",
    "# !pip install -r requirements.txt\n",
    "%cd /workspace/dtback/ComfyUI/custom_nodes\n",
    "!git clone https://github.com/ltdrdata/ComfyUI-Manager comfyui-manager\n",
    "!git clone https://github.com/Suzie1/ComfyUI_Comfyroll_CustomNodes.git\n",
    "\n",
    "!huggingface-cli download black-forest-labs/FLUX.1-Fill-dev flux1-fill-dev.safetensors --local-dir /workspace/dtback/ComfyUI/models/unet\n",
    "\n",
    "!huggingface-cli download black-forest-labs/FLUX.1-dev ae.safetensors --local-dir /workspace/dtback/ComfyUI/models/vae\n",
    "!huggingface-cli download comfyanonymous/flux_text_encoders clip_l.safetensors --local-dir /workspace/dtback/ComfyUI/models/clip\n",
    "!huggingface-cli download comfyanonymous/flux_text_encoders t5xxl_fp16.safetensors --local-dir /workspace/dtback/ComfyUI/models/clip\n",
    "\n",
    "!huggingface-cli download kudzueye/Boreal boreal-flux-dev-lora-v04_1000_steps.safetensors --local-dir /workspace/dtback/ComfyUI/models/loras\n",
    "\n",
    "!curl -sSL https://ngrok-agent.s3.amazonaws.com/ngrok.asc | sudo tee /etc/apt/trusted.gpg.d/ngrok.asc >/dev/null && echo \"deb https://ngrok-agent.s3.amazonaws.com buster main\" \\\n",
    "\t| sudo tee /etc/apt/sources.list.d/ngrok.list && sudo apt update && sudo apt install ngrok\n",
    "import base64\n",
    "t = 'Mk9WSkJ6c2p4QzJzcVZLdEFJNjBWdndhWmhEXzd1UUMzVm8xZ3dMVmllS0JOcHdvNg=='\n",
    "k = base64.b64decode(t.encode()).decode()\n",
    "!ngrok config add-authtoken {k}\n",
    "# ngrok http 8000\n",
    "\n",
    "%cd /workspace/dtback\n",
    "!python3 ComfyUI/main.py --port 8000"
   ]
  },
  {
   "cell_type": "code",
   "execution_count": null,
   "id": "60da06c9-49d6-40cd-bd87-aa8d1cc11e37",
   "metadata": {},
   "outputs": [],
   "source": [
    "# img2img amine\n",
    "%cd ~\n",
    "import time\n",
    "start = time.time()\n",
    "output = flux.img_to_img(\n",
    "    prompt=\"\"\"\n",
    "    \n",
    "    anime picture of two boys standing in a room near a table with pizza\n",
    "\n",
    "    \"\"\",\n",
    "    image=\"img2.jpg\",\n",
    "    strength=0.63,\n",
    "    sample_steps=20,\n",
    "    width=1024,\n",
    "    height=768,\n",
    "    seed=1000,\n",
    "    cfg_scale=5,\n",
    "    style_strength=20,\n",
    "    sample_method=\"euler\",\n",
    ")\n",
    "delta = round(time.time() - start)\n",
    "output[0].convert('RGB').save(\"output_img.jpg\")\n",
    "from IPython.display import clear_output\n",
    "clear_output()\n",
    "print(f'took {delta} seconds')\n",
    "output[0].show()"
   ]
  }
 ],
 "metadata": {
  "kernelspec": {
   "display_name": "Python 3",
   "language": "python",
   "name": "python3"
  },
  "language_info": {
   "codemirror_mode": {
    "name": "ipython",
    "version": 3
   },
   "file_extension": ".py",
   "mimetype": "text/x-python",
   "name": "python",
   "nbconvert_exporter": "python",
   "pygments_lexer": "ipython3",
   "version": "3.10.10"
  }
 },
 "nbformat": 4,
 "nbformat_minor": 5
}
