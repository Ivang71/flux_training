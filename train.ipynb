{
 "cells": [
  {
   "cell_type": "code",
   "execution_count": null,
   "metadata": {},
   "outputs": [],
   "source": [
    "import os\n",
    "HOME = os.getcwd()\n",
    "print(HOME)\n",
    "\n",
    "!export MAKEFLAGS=\"-j$(nproc)\"\n",
    "!pip install diffusers transformers accelerate xformers huggingface_hub[hf_transfer] hf_transfer \\\n",
    "    pillow insightface opencv-python apex gradio onnxruntime-gpu timm pickleshare \\\n",
    "    SentencePiece ftfy einops facexlib fire onnx onnxruntime-gpu\n",
    "!pip show basicsr || pip install git+https://github.com/XPixelGroup/BasicSR\n",
    "!pip install flash-attn"
   ]
  },
  {
   "cell_type": "code",
   "execution_count": null,
   "metadata": {},
   "outputs": [],
   "source": [
    "%%capture\n",
    "from huggingface_hub import login\n",
    "import base64\n",
    "k = base64.b64decode('aGZfaHZqck9VTXFvTXF3dW9HR3JoTlZKSWlsZUtFTlNQbXRjTw==').decode()\n",
    "login(token=k, add_to_git_credential=False)\n",
    "%env HUGGINGFACEHUB_API_TOKEN={k}\n",
    "%env HF_TOKEN={k}\n",
    "%env HF_HUB_ENABLE_HF_TRANSFER=1"
   ]
  },
  {
   "cell_type": "code",
   "execution_count": null,
   "metadata": {},
   "outputs": [],
   "source": [
    "# !sudo -v ; curl https://rclone.org/install.sh | sudo bash\n",
    "# !sudo apt-get update\n",
    "# !apt-get update && apt-get install -y fuse3 -y\n",
    "\n",
    "%cd dataset_creation\n",
    "!python3 gather.py\n",
    "%cd ..\n",
    "\n",
    "# sudo apt update && sudo apt install screen -y\n",
    "# cd /workspace/dtback/dataset_creation\n",
    "# screen -S gather\n",
    "# python3 gather.py\n",
    "# # ctrl+a d\n",
    "# screen -r gather"
   ]
  },
  {
   "cell_type": "code",
   "execution_count": null,
   "metadata": {},
   "outputs": [],
   "source": [
    "!huggingface-cli download black-forest-labs/FLUX.1-dev\n",
    "!huggingface-cli download OpenGVLab/InternViT-300M-448px-V2_5\n",
    "!huggingface-cli download IDEA-Research/grounding-dino-tiny\n",
    "# !huggingface-cli download OpenGVLab/InternVL2_5-26B-MPO-AWQ # for dataset creation"
   ]
  }
 ],
 "metadata": {
  "kernelspec": {
   "display_name": "Python 3",
   "language": "python",
   "name": "python3"
  },
  "language_info": {
   "codemirror_mode": {
    "name": "ipython",
    "version": 3
   },
   "file_extension": ".py",
   "mimetype": "text/x-python",
   "name": "python",
   "nbconvert_exporter": "python",
   "pygments_lexer": "ipython3",
   "version": "3.10.12"
  }
 },
 "nbformat": 4,
 "nbformat_minor": 2
}
